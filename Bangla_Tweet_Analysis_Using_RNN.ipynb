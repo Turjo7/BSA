{
  "nbformat": 4,
  "nbformat_minor": 0,
  "metadata": {
    "colab": {
      "name": "Bangla Tweet Analysis_Using_RNN.ipynb",
      "provenance": []
    },
    "kernelspec": {
      "name": "python3",
      "display_name": "Python 3"
    }
  },
  "cells": [
    {
      "cell_type": "code",
      "metadata": {
        "id": "ob4FRasiLlJa",
        "colab_type": "code",
        "colab": {}
      },
      "source": [
        "import re #Regular expression function\n",
        "import numpy as np #Numpy array\n",
        "import pandas as pd #Pandas\n",
        "from sklearn.model_selection import train_test_split #Data_set_split\n",
        "import matplotlib.pyplot as plt #Plotting\n",
        "\n",
        "from keras.models import Sequential, load_model\n",
        "from keras.layers import Dense, LSTM, Embedding, Dropout\n",
        "from keras.preprocessing.text import Tokenizer\n",
        "from keras.preprocessing.sequence import pad_sequences\n"
      ],
      "execution_count": 0,
      "outputs": []
    },
    {
      "cell_type": "code",
      "metadata": {
        "id": "ld10uu9NL7YI",
        "colab_type": "code",
        "colab": {
          "base_uri": "https://localhost:8080/",
          "height": 221
        },
        "outputId": "7e2d98ac-cf84-41d7-df1f-40ba2f623031"
      },
      "source": [
        "data = pd.read_csv('dataset.txt')\n",
        "data = data.sample(frac=1).reset_index(drop=True)\n",
        "print(data.shape)\n",
        "data.head()"
      ],
      "execution_count": 16,
      "outputs": [
        {
          "output_type": "stream",
          "text": [
            "(50, 2)\n"
          ],
          "name": "stdout"
        },
        {
          "output_type": "execute_result",
          "data": {
            "text/html": [
              "<div>\n",
              "<style scoped>\n",
              "    .dataframe tbody tr th:only-of-type {\n",
              "        vertical-align: middle;\n",
              "    }\n",
              "\n",
              "    .dataframe tbody tr th {\n",
              "        vertical-align: top;\n",
              "    }\n",
              "\n",
              "    .dataframe thead th {\n",
              "        text-align: right;\n",
              "    }\n",
              "</style>\n",
              "<table border=\"1\" class=\"dataframe\">\n",
              "  <thead>\n",
              "    <tr style=\"text-align: right;\">\n",
              "      <th></th>\n",
              "      <th>tweets</th>\n",
              "      <th>type</th>\n",
              "    </tr>\n",
              "  </thead>\n",
              "  <tbody>\n",
              "    <tr>\n",
              "      <th>0</th>\n",
              "      <td>বাবুটা তার সাথে আবু হেবি</td>\n",
              "      <td>পজিটিভ</td>\n",
              "    </tr>\n",
              "    <tr>\n",
              "      <th>1</th>\n",
              "      <td>চুপ থাকার কোন সিস্টেম নাই যদি প্রান খুলে হাসতে...</td>\n",
              "      <td>নেগেটিভ</td>\n",
              "    </tr>\n",
              "    <tr>\n",
              "      <th>2</th>\n",
              "      <td>আমার মত প্রবাসীদে কাছ থেকে কমিশন নিয়ে একটা বিল...</td>\n",
              "      <td>পজিটিভ</td>\n",
              "    </tr>\n",
              "    <tr>\n",
              "      <th>3</th>\n",
              "      <td>ঈমানদারির পরিচয় পাওয়া যায় পাকিদের মূর্খতাকে সা...</td>\n",
              "      <td>নেগেটিভ</td>\n",
              "    </tr>\n",
              "    <tr>\n",
              "      <th>4</th>\n",
              "      <td>আবারও লেট হয়ছে সেকেন্ড মাত্র বাহ বাহ</td>\n",
              "      <td>নেগেটিভ</td>\n",
              "    </tr>\n",
              "  </tbody>\n",
              "</table>\n",
              "</div>"
            ],
            "text/plain": [
              "                                              tweets      type\n",
              "0                           বাবুটা তার সাথে আবু হেবি    পজিটিভ\n",
              "1  চুপ থাকার কোন সিস্টেম নাই যদি প্রান খুলে হাসতে...   নেগেটিভ\n",
              "2  আমার মত প্রবাসীদে কাছ থেকে কমিশন নিয়ে একটা বিল...    পজিটিভ\n",
              "3  ঈমানদারির পরিচয় পাওয়া যায় পাকিদের মূর্খতাকে সা...   নেগেটিভ\n",
              "4               আবারও লেট হয়ছে সেকেন্ড মাত্র বাহ বাহ   নেগেটিভ"
            ]
          },
          "metadata": {
            "tags": []
          },
          "execution_count": 16
        }
      ]
    },
    {
      "cell_type": "code",
      "metadata": {
        "id": "Z_hhhACBMsnk",
        "colab_type": "code",
        "colab": {
          "base_uri": "https://localhost:8080/",
          "height": 204
        },
        "outputId": "892b28bd-be8d-4db5-a453-3171c5ced90d"
      },
      "source": [
        "data = data[['tweets', 'type']]\n",
        "data.head()\n"
      ],
      "execution_count": 17,
      "outputs": [
        {
          "output_type": "execute_result",
          "data": {
            "text/html": [
              "<div>\n",
              "<style scoped>\n",
              "    .dataframe tbody tr th:only-of-type {\n",
              "        vertical-align: middle;\n",
              "    }\n",
              "\n",
              "    .dataframe tbody tr th {\n",
              "        vertical-align: top;\n",
              "    }\n",
              "\n",
              "    .dataframe thead th {\n",
              "        text-align: right;\n",
              "    }\n",
              "</style>\n",
              "<table border=\"1\" class=\"dataframe\">\n",
              "  <thead>\n",
              "    <tr style=\"text-align: right;\">\n",
              "      <th></th>\n",
              "      <th>tweets</th>\n",
              "      <th>type</th>\n",
              "    </tr>\n",
              "  </thead>\n",
              "  <tbody>\n",
              "    <tr>\n",
              "      <th>0</th>\n",
              "      <td>বাবুটা তার সাথে আবু হেবি</td>\n",
              "      <td>পজিটিভ</td>\n",
              "    </tr>\n",
              "    <tr>\n",
              "      <th>1</th>\n",
              "      <td>চুপ থাকার কোন সিস্টেম নাই যদি প্রান খুলে হাসতে...</td>\n",
              "      <td>নেগেটিভ</td>\n",
              "    </tr>\n",
              "    <tr>\n",
              "      <th>2</th>\n",
              "      <td>আমার মত প্রবাসীদে কাছ থেকে কমিশন নিয়ে একটা বিল...</td>\n",
              "      <td>পজিটিভ</td>\n",
              "    </tr>\n",
              "    <tr>\n",
              "      <th>3</th>\n",
              "      <td>ঈমানদারির পরিচয় পাওয়া যায় পাকিদের মূর্খতাকে সা...</td>\n",
              "      <td>নেগেটিভ</td>\n",
              "    </tr>\n",
              "    <tr>\n",
              "      <th>4</th>\n",
              "      <td>আবারও লেট হয়ছে সেকেন্ড মাত্র বাহ বাহ</td>\n",
              "      <td>নেগেটিভ</td>\n",
              "    </tr>\n",
              "  </tbody>\n",
              "</table>\n",
              "</div>"
            ],
            "text/plain": [
              "                                              tweets      type\n",
              "0                           বাবুটা তার সাথে আবু হেবি    পজিটিভ\n",
              "1  চুপ থাকার কোন সিস্টেম নাই যদি প্রান খুলে হাসতে...   নেগেটিভ\n",
              "2  আমার মত প্রবাসীদে কাছ থেকে কমিশন নিয়ে একটা বিল...    পজিটিভ\n",
              "3  ঈমানদারির পরিচয় পাওয়া যায় পাকিদের মূর্খতাকে সা...   নেগেটিভ\n",
              "4               আবারও লেট হয়ছে সেকেন্ড মাত্র বাহ বাহ   নেগেটিভ"
            ]
          },
          "metadata": {
            "tags": []
          },
          "execution_count": 17
        }
      ]
    },
    {
      "cell_type": "code",
      "metadata": {
        "id": "GBSiZB1oM6Vm",
        "colab_type": "code",
        "colab": {
          "base_uri": "https://localhost:8080/",
          "height": 864
        },
        "outputId": "c0eadd51-0ea4-43db-ac65-effbead58cbe"
      },
      "source": [
        "data['type'].value_counts().sort_index().plot.bar()"
      ],
      "execution_count": 18,
      "outputs": [
        {
          "output_type": "execute_result",
          "data": {
            "text/plain": [
              "<matplotlib.axes._subplots.AxesSubplot at 0x7f5796efa748>"
            ]
          },
          "metadata": {
            "tags": []
          },
          "execution_count": 18
        },
        {
          "output_type": "stream",
          "text": [
            "/usr/local/lib/python3.6/dist-packages/matplotlib/backends/backend_agg.py:214: RuntimeWarning: Glyph 2472 missing from current font.\n",
            "  font.set_text(s, 0.0, flags=flags)\n",
            "/usr/local/lib/python3.6/dist-packages/matplotlib/backends/backend_agg.py:214: RuntimeWarning: Glyph 2503 missing from current font.\n",
            "  font.set_text(s, 0.0, flags=flags)\n",
            "/usr/local/lib/python3.6/dist-packages/matplotlib/backends/backend_agg.py:214: RuntimeWarning: Glyph 2455 missing from current font.\n",
            "  font.set_text(s, 0.0, flags=flags)\n",
            "/usr/local/lib/python3.6/dist-packages/matplotlib/backends/backend_agg.py:214: RuntimeWarning: Glyph 2463 missing from current font.\n",
            "  font.set_text(s, 0.0, flags=flags)\n",
            "/usr/local/lib/python3.6/dist-packages/matplotlib/backends/backend_agg.py:214: RuntimeWarning: Glyph 2495 missing from current font.\n",
            "  font.set_text(s, 0.0, flags=flags)\n",
            "/usr/local/lib/python3.6/dist-packages/matplotlib/backends/backend_agg.py:214: RuntimeWarning: Glyph 2477 missing from current font.\n",
            "  font.set_text(s, 0.0, flags=flags)\n",
            "/usr/local/lib/python3.6/dist-packages/matplotlib/backends/backend_agg.py:214: RuntimeWarning: Glyph 2474 missing from current font.\n",
            "  font.set_text(s, 0.0, flags=flags)\n",
            "/usr/local/lib/python3.6/dist-packages/matplotlib/backends/backend_agg.py:214: RuntimeWarning: Glyph 2460 missing from current font.\n",
            "  font.set_text(s, 0.0, flags=flags)\n",
            "/usr/local/lib/python3.6/dist-packages/matplotlib/backends/backend_agg.py:183: RuntimeWarning: Glyph 2472 missing from current font.\n",
            "  font.set_text(s, 0, flags=flags)\n",
            "/usr/local/lib/python3.6/dist-packages/matplotlib/backends/backend_agg.py:183: RuntimeWarning: Glyph 2503 missing from current font.\n",
            "  font.set_text(s, 0, flags=flags)\n",
            "/usr/local/lib/python3.6/dist-packages/matplotlib/backends/backend_agg.py:183: RuntimeWarning: Glyph 2455 missing from current font.\n",
            "  font.set_text(s, 0, flags=flags)\n",
            "/usr/local/lib/python3.6/dist-packages/matplotlib/backends/backend_agg.py:183: RuntimeWarning: Glyph 2463 missing from current font.\n",
            "  font.set_text(s, 0, flags=flags)\n",
            "/usr/local/lib/python3.6/dist-packages/matplotlib/backends/backend_agg.py:183: RuntimeWarning: Glyph 2495 missing from current font.\n",
            "  font.set_text(s, 0, flags=flags)\n",
            "/usr/local/lib/python3.6/dist-packages/matplotlib/backends/backend_agg.py:183: RuntimeWarning: Glyph 2477 missing from current font.\n",
            "  font.set_text(s, 0, flags=flags)\n",
            "/usr/local/lib/python3.6/dist-packages/matplotlib/backends/backend_agg.py:183: RuntimeWarning: Glyph 2474 missing from current font.\n",
            "  font.set_text(s, 0, flags=flags)\n",
            "/usr/local/lib/python3.6/dist-packages/matplotlib/backends/backend_agg.py:183: RuntimeWarning: Glyph 2460 missing from current font.\n",
            "  font.set_text(s, 0, flags=flags)\n"
          ],
          "name": "stderr"
        },
        {
          "output_type": "display_data",
          "data": {
            "image/png": "[encoded data removed]",
            "text/plain": [
              "<Figure size 432x288 with 1 Axes>"
            ]
          },
          "metadata": {
            "tags": [],
            "needs_background": "light"
          }
        }
      ]
    },
    {
      "cell_type": "code",
      "metadata": {
        "id": "awGEMPNBNuq1",
        "colab_type": "code",
        "colab": {
          "base_uri": "https://localhost:8080/",
          "height": 282
        },
        "outputId": "724afbc1-022d-41d9-c0af-e27fb2297a59"
      },
      "source": [
        "\n",
        "data['tweets'].str.len().plot.hist()"
      ],
      "execution_count": 19,
      "outputs": [
        {
          "output_type": "execute_result",
          "data": {
            "text/plain": [
              "<matplotlib.axes._subplots.AxesSubplot at 0x7f5796ecec50>"
            ]
          },
          "metadata": {
            "tags": []
          },
          "execution_count": 19
        },
        {
          "output_type": "display_data",
          "data": {
            "image/png": "[encoded data removed]",
            "text/plain": [
              "<Figure size 432x288 with 1 Axes>"
            ]
          },
          "metadata": {
            "tags": [],
            "needs_background": "light"
          }
        }
      ]
    },
    {
      "cell_type": "code",
      "metadata": {
        "id": "n8J5HsfiN1np",
        "colab_type": "code",
        "colab": {
          "base_uri": "https://localhost:8080/",
          "height": 204
        },
        "outputId": "a85aca74-f0f6-4392-f936-1254b68c51d2"
      },
      "source": [
        "#data['tweets'] = data['tweets'].str.replace('@mentions', '')\n",
        "#data.head()"
      ],
      "execution_count": 13,
      "outputs": [
        {
          "output_type": "execute_result",
          "data": {
            "text/html": [
              "<div>\n",
              "<style scoped>\n",
              "    .dataframe tbody tr th:only-of-type {\n",
              "        vertical-align: middle;\n",
              "    }\n",
              "\n",
              "    .dataframe tbody tr th {\n",
              "        vertical-align: top;\n",
              "    }\n",
              "\n",
              "    .dataframe thead th {\n",
              "        text-align: right;\n",
              "    }\n",
              "</style>\n",
              "<table border=\"1\" class=\"dataframe\">\n",
              "  <thead>\n",
              "    <tr style=\"text-align: right;\">\n",
              "      <th></th>\n",
              "      <th>tweets</th>\n",
              "      <th>type</th>\n",
              "    </tr>\n",
              "  </thead>\n",
              "  <tbody>\n",
              "    <tr>\n",
              "      <th>0</th>\n",
              "      <td></td>\n",
              "      <td>পজিটিভ</td>\n",
              "    </tr>\n",
              "    <tr>\n",
              "      <th>1</th>\n",
              "      <td></td>\n",
              "      <td>পজিটিভ</td>\n",
              "    </tr>\n",
              "    <tr>\n",
              "      <th>2</th>\n",
              "      <td></td>\n",
              "      <td>পজিটিভ</td>\n",
              "    </tr>\n",
              "    <tr>\n",
              "      <th>3</th>\n",
              "      <td></td>\n",
              "      <td>পজিটিভ</td>\n",
              "    </tr>\n",
              "    <tr>\n",
              "      <th>4</th>\n",
              "      <td></td>\n",
              "      <td>নেগেটিভ</td>\n",
              "    </tr>\n",
              "  </tbody>\n",
              "</table>\n",
              "</div>"
            ],
            "text/plain": [
              "       tweets      type\n",
              "0                পজিটিভ\n",
              "1                পজিটিভ\n",
              "2                পজিটিভ\n",
              "3                পজিটিভ\n",
              "4               নেগেটিভ"
            ]
          },
          "metadata": {
            "tags": []
          },
          "execution_count": 13
        }
      ]
    },
    {
      "cell_type": "code",
      "metadata": {
        "id": "blCSsHOWOfMu",
        "colab_type": "code",
        "colab": {
          "base_uri": "https://localhost:8080/",
          "height": 119
        },
        "outputId": "b86165b9-3aee-4e54-98f8-f9721be164d5"
      },
      "source": [
        "#data['tweets'].apply(lambda x: x.lower()) #transform text to lowercase\n",
        "#data['tweets'] = data['tweets'].apply(lambda x: re.sub('[^a-zA-z0-9\\s]', '', x))\n",
        "#data['tweets'].head()"
      ],
      "execution_count": 12,
      "outputs": [
        {
          "output_type": "execute_result",
          "data": {
            "text/plain": [
              "0              \n",
              "1              \n",
              "2              \n",
              "3              \n",
              "4              \n",
              "Name: tweets, dtype: object"
            ]
          },
          "metadata": {
            "tags": []
          },
          "execution_count": 12
        }
      ]
    },
    {
      "cell_type": "code",
      "metadata": {
        "id": "kBM-nS6FO56I",
        "colab_type": "code",
        "colab": {
          "base_uri": "https://localhost:8080/",
          "height": 612
        },
        "outputId": "c25a093a-7699-49b3-f609-2d690f577e03"
      },
      "source": [
        "tokenizer = Tokenizer(num_words=5000, split=\" \")\n",
        "tokenizer.fit_on_texts(data['tweets'].values)\n",
        "\n",
        "X = tokenizer.texts_to_sequences(data['tweets'].values)\n",
        "X = pad_sequences(X) # Padding our text vector so they all have the same length\n",
        "X[:5]"
      ],
      "execution_count": 20,
      "outputs": [
        {
          "output_type": "execute_result",
          "data": {
            "text/plain": [
              "array([[  0,   0,   0,   0,   0,   0,   0,   0,   0,   0,   0,   0,   0,\n",
              "          0,   0,   0,   0,   0,   0,   0,   0,   0,   0,   0,   0,   0,\n",
              "          0,   0,   0,   0,   0,   0,   0,   0,   0,   0,   0,   0,   0,\n",
              "          0,   0,   0,   0,   0,   0,   0,   0,   0,   0,   0,   0,   0,\n",
              "          0,   0,   0,   0,   0,   0,   0,   0,   0,   0,   0,   0,   0,\n",
              "          0,   0,   0,   0,   0,   0,   0,   0,   0,   0,   0,   0,   0,\n",
              "          0,   0,   0, 138,  32,  21, 139, 140],\n",
              "       [  0,   0,   0,   0,   0,   0,   0,   0,   0,   0,   0,   0,   0,\n",
              "          0,   0,   0,   0,   0,   0,   0,   0,   0,   0,   0,   0,   0,\n",
              "          0,   0,   0,   0,   0,   0,   0,   0,   0,   0,   0,   0,   0,\n",
              "          0,   0,   0,   0,   0,   0,   0,   0,   0,   0,   0,   0,   0,\n",
              "          0,   0,   0,   0,   0,   0,   0,   0,   0,   0,   0,   0,   0,\n",
              "          0,   0,   0,   0,   0,   0,   0, 141,  33,  14, 142,  68,  22,\n",
              "        143, 144, 145, 146,  69, 147, 148,   6],\n",
              "       [  0,   0,   0,   0,   0,   0,   0,   0,   0,   0,   0,   0,   0,\n",
              "          0,   0,   0,   0,   0,   0,   0,   0,   0,   0,   0,   0,   0,\n",
              "          0,   0,   0,   0,   0,   0,   0,   0,   0,   0,   0,   0,   0,\n",
              "          0,   0,   0,   0,   0,   0,   0,   0,   0,   0,   0,   0,   0,\n",
              "          0,   0,   0,   0,   0,   0,   0,   0,   0,   0,   0,   0,   0,\n",
              "          0,   0,   0,   0,   0,   0,   0,   0,   0,   0,   0,  15,  23,\n",
              "        149,  34,   2, 150,  35,  36, 151, 152],\n",
              "       [  0,   0,   0,   0,   0,   0,   0,   0,   0,   0,   0,   0,   0,\n",
              "          0,   0,   0,   0,   0,   0,   0,   0,   0,   0,   0,   0,   0,\n",
              "          0,   0,   0,   0,   0,   0,   0,   0,   0,   0,   0,   0,   0,\n",
              "          0,   0,   0,   0,   0,   0,   0,   0,   0,   0,   0,   0,   0,\n",
              "          0,   0,   0,   0,   0,   0,   0,   0,   0,   0,   0,   0,   0,\n",
              "          0,   0,   0,   0,   0,   0,   0,   0,   0,   0,   0,   0,   0,\n",
              "        153, 154, 155, 156, 157, 158, 159, 160],\n",
              "       [  0,   0,   0,   0,   0,   0,   0,   0,   0,   0,   0,   0,   0,\n",
              "          0,   0,   0,   0,   0,   0,   0,   0,   0,   0,   0,   0,   0,\n",
              "          0,   0,   0,   0,   0,   0,   0,   0,   0,   0,   0,   0,   0,\n",
              "          0,   0,   0,   0,   0,   0,   0,   0,   0,   0,   0,   0,   0,\n",
              "          0,   0,   0,   0,   0,   0,   0,   0,   0,   0,   0,   0,   0,\n",
              "          0,   0,   0,   0,   0,   0,   0,   0,   0,   0,   0,   0,   0,\n",
              "          0, 161, 162, 163, 164, 165,  70,  70]], dtype=int32)"
            ]
          },
          "metadata": {
            "tags": []
          },
          "execution_count": 20
        }
      ]
    },
    {
      "cell_type": "code",
      "metadata": {
        "id": "A4tw-pg1PIFR",
        "colab_type": "code",
        "colab": {}
      },
      "source": [
        "model = Sequential()\n",
        "model.add(Embedding(5000, 256, input_length=X.shape[1]))\n",
        "model.add(Dropout(0.3))\n",
        "model.add(LSTM(256, return_sequences=True, dropout=0.3, recurrent_dropout=0.2))\n",
        "model.add(LSTM(256, dropout=0.3, recurrent_dropout=0.2))\n",
        "model.add(Dense(2, activation='softmax'))"
      ],
      "execution_count": 0,
      "outputs": []
    },
    {
      "cell_type": "code",
      "metadata": {
        "id": "lTuEHEEzPM2h",
        "colab_type": "code",
        "colab": {
          "base_uri": "https://localhost:8080/",
          "height": 323
        },
        "outputId": "e561fcdb-27ea-4530-b2c1-09dbdf27930a"
      },
      "source": [
        "model.compile(loss='categorical_crossentropy', optimizer='adam', metrics=['accuracy'])\n",
        "model.summary()"
      ],
      "execution_count": 34,
      "outputs": [
        {
          "output_type": "stream",
          "text": [
            "Model: \"sequential_2\"\n",
            "_________________________________________________________________\n",
            "Layer (type)                 Output Shape              Param #   \n",
            "=================================================================\n",
            "embedding_2 (Embedding)      (None, 86, 256)           1280000   \n",
            "_________________________________________________________________\n",
            "dropout_2 (Dropout)          (None, 86, 256)           0         \n",
            "_________________________________________________________________\n",
            "lstm_3 (LSTM)                (None, 86, 256)           525312    \n",
            "_________________________________________________________________\n",
            "lstm_4 (LSTM)                (None, 256)               525312    \n",
            "_________________________________________________________________\n",
            "dense_2 (Dense)              (None, 2)                 514       \n",
            "=================================================================\n",
            "Total params: 2,331,138\n",
            "Trainable params: 2,331,138\n",
            "Non-trainable params: 0\n",
            "_________________________________________________________________\n"
          ],
          "name": "stdout"
        }
      ]
    },
    {
      "cell_type": "code",
      "metadata": {
        "id": "BQu0wrt0Pa3a",
        "colab_type": "code",
        "colab": {
          "base_uri": "https://localhost:8080/",
          "height": 119
        },
        "outputId": "d4ea826d-b17e-40f7-cf71-7ca83601af6b"
      },
      "source": [
        "y = pd.get_dummies(data['type']).values\n",
        "[print(data['type'][i], y[i]) for i in range(0,5)]"
      ],
      "execution_count": 35,
      "outputs": [
        {
          "output_type": "stream",
          "text": [
            " পজিটিভ [0 1]\n",
            " পজিটিভ [0 1]\n",
            " পজিটিভ [0 1]\n",
            " পজিটিভ [0 1]\n",
            " নেগেটিভ [1 0]\n"
          ],
          "name": "stdout"
        },
        {
          "output_type": "execute_result",
          "data": {
            "text/plain": [
              "[None, None, None, None, None]"
            ]
          },
          "metadata": {
            "tags": []
          },
          "execution_count": 35
        }
      ]
    },
    {
      "cell_type": "code",
      "metadata": {
        "id": "Gr79FBPvPlXH",
        "colab_type": "code",
        "colab": {}
      },
      "source": [
        "X_train, X_test, y_train, y_test = train_test_split(X, y, test_size=0.2, random_state=0)"
      ],
      "execution_count": 0,
      "outputs": []
    },
    {
      "cell_type": "code",
      "metadata": {
        "id": "zfWrW2S_SLJQ",
        "colab_type": "code",
        "colab": {
          "base_uri": "https://localhost:8080/",
          "height": 306
        },
        "outputId": "c387b10f-cb6d-4d01-d6a6-87040f72c34e"
      },
      "source": [
        "batch_size = 32\n",
        "epochs = 8\n",
        "\n",
        "model.fit(X_train, y_train, epochs=epochs, batch_size=batch_size, verbose=2)"
      ],
      "execution_count": 38,
      "outputs": [
        {
          "output_type": "stream",
          "text": [
            "Epoch 1/8\n",
            " - 1s - loss: 0.6567 - accuracy: 0.7750\n",
            "Epoch 2/8\n",
            " - 1s - loss: 0.6529 - accuracy: 0.9000\n",
            "Epoch 3/8\n",
            " - 1s - loss: 0.6437 - accuracy: 0.9250\n",
            "Epoch 4/8\n",
            " - 1s - loss: 0.6256 - accuracy: 0.9750\n",
            "Epoch 5/8\n",
            " - 1s - loss: 0.6148 - accuracy: 1.0000\n",
            "Epoch 6/8\n",
            " - 1s - loss: 0.5969 - accuracy: 0.8750\n",
            "Epoch 7/8\n",
            " - 1s - loss: 0.5684 - accuracy: 0.9500\n",
            "Epoch 8/8\n",
            " - 1s - loss: 0.5392 - accuracy: 0.9500\n"
          ],
          "name": "stdout"
        },
        {
          "output_type": "execute_result",
          "data": {
            "text/plain": [
              "<keras.callbacks.callbacks.History at 0x7f578cddb208>"
            ]
          },
          "metadata": {
            "tags": []
          },
          "execution_count": 38
        }
      ]
    },
    {
      "cell_type": "code",
      "metadata": {
        "id": "n5T7V6ycSRwv",
        "colab_type": "code",
        "colab": {}
      },
      "source": [
        "model.save('sentiment_analysis.h5')"
      ],
      "execution_count": 0,
      "outputs": []
    },
    {
      "cell_type": "code",
      "metadata": {
        "id": "_V5yHAc6S3rb",
        "colab_type": "code",
        "colab": {
          "base_uri": "https://localhost:8080/",
          "height": 139
        },
        "outputId": "9bf3178f-7f63-48a3-a7eb-1c1aa0c41782"
      },
      "source": [
        "predictions = model.predict(X_test)\n",
        "\n",
        "[print(data['tweets'][i], predictions[i], y_test[i]) for i in range(0, 5)]"
      ],
      "execution_count": 40,
      "outputs": [
        {
          "output_type": "stream",
          "text": [
            "নতুন সিমে প্রথমবার টাকা রিচার্জে আপনি মিনিট বোনাস টকটাইম যেকোনো লোকাল নম্বরে জিবি ডাটা টি এসএমএস সাথে পয়সাসেকেন্ড যেকোনো গ্রামীণ নাম্বারে এবং পয়সাসেকেন্ড যেকোনো অন্য অপারেটরে অফার গুলো পাবে [0.5635812  0.43641877] [0 1]\n",
            "এদেশে যতই জনসংখ্যা বেশি হোক তারপরেও জীবন বাঁচাতে আসা রোহিঙ্গাদের আশ্রয় দেওয়া উচিৎ [0.49523613 0.50476384] [1 0]\n",
            "জাতিসংঘ যদি রোহিঙ্গা শরনার্থীদের পূর্নবাসনের জন্যে বাংলাদেশ সরকারকে সহায়তা করতে সম্মত হয় তাহলেই সরকারের উচিত হবে তাদের আশ্রয় দেওয়া [0.52992404 0.470076  ] [0 1]\n",
            "ভাই তোমরা দুজনে মিলে চুটিয়ে প্রেম কর আর সিনামায় অভিনয় কর [0.5081608 0.4918392] [0 1]\n",
            "ভাই সাংবাদিক পুলিশ যখন খারাপ কিছু করে তখন পুলিশ শাব্দ টা আগে লেখেন কিন্ত এখন এত বড় একটা ভাল কাজ করল কে গ্রেফতার করল সেটা উল্লেখ করলেন না শিরোনামে কি উল্লেখ করা উচিত ছিল না [0.5006562  0.49934372] [0 1]\n"
          ],
          "name": "stdout"
        },
        {
          "output_type": "execute_result",
          "data": {
            "text/plain": [
              "[None, None, None, None, None]"
            ]
          },
          "metadata": {
            "tags": []
          },
          "execution_count": 40
        }
      ]
    },
    {
      "cell_type": "code",
      "metadata": {
        "id": "YvVexEkBTBxD",
        "colab_type": "code",
        "colab": {
          "base_uri": "https://localhost:8080/",
          "height": 119
        },
        "outputId": "3513bd68-426b-4fb5-e0fc-8b45fab6477c"
      },
      "source": [
        "pos_count, neu_count, neg_count = 0, 0, 0\n",
        "real_pos, real_neu, real_neg = 0, 0, 0\n",
        "for i, prediction in enumerate(predictions):\n",
        "    if np.argmax(prediction)==2:\n",
        "        pos_count += 1\n",
        "    elif np.argmax(prediction)==1:\n",
        "        neu_count += 1\n",
        "    else:\n",
        "        neg_count += 1\n",
        "    \n",
        "    if np.argmax(y_test[i])==2:\n",
        "        real_pos += 1\n",
        "    elif np.argmax(y_test[i])==1:    \n",
        "        real_neu += 1\n",
        "    else:\n",
        "        real_neg +=1\n",
        "\n",
        "print('Positive predictions:', pos_count)\n",
        "print('Neutral predictions:', neu_count)\n",
        "print('Negative predictions:', neg_count)\n",
        "print('Real positive:', real_pos)\n",
        "print('Real neutral:', real_neu)\n",
        "print('Real negative:', real_neg)"
      ],
      "execution_count": 41,
      "outputs": [
        {
          "output_type": "stream",
          "text": [
            "Positive predictions: 0\n",
            "Neutral predictions: 2\n",
            "Negative predictions: 8\n",
            "Real positive: 0\n",
            "Real neutral: 6\n",
            "Real negative: 4\n"
          ],
          "name": "stdout"
        }
      ]
    }
  ]
}